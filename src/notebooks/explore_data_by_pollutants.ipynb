{
 "cells": [
  {
   "cell_type": "markdown",
   "metadata": {},
   "source": [
    "# Exploring data by pollutant"
   ]
  },
  {
   "cell_type": "code",
   "execution_count": null,
   "metadata": {},
   "outputs": [],
   "source": [
    "import pandas as pd\n",
    "import matplotlib.pyplot as plt\n",
    "import seaborn as sns\n",
    "\n",
    "%matplotlib inline"
   ]
  },
  {
   "cell_type": "code",
   "execution_count": null,
   "metadata": {},
   "outputs": [],
   "source": [
    "path_raw_original = '../data/raw/original/'\n",
    "filename_pollutants = 'Measurement_item_info.csv'\n",
    "filename_instruments = 'Measurement_info.csv'\n",
    "\n",
    "df_pollutants = pd.read_csv(path_raw_original + filename_pollutants)\n",
    "df = pd.read_csv(path_raw_original + filename_instruments)\n"
   ]
  },
  {
   "cell_type": "code",
   "execution_count": null,
   "metadata": {},
   "outputs": [],
   "source": [
    "df_pollutants.head(6)"
   ]
  },
  {
   "cell_type": "code",
   "execution_count": null,
   "metadata": {},
   "outputs": [],
   "source": [
    "# replace Item code with Item name\n",
    "\n",
    "pollutants_dict = pd.Series(df_pollutants['Item name'].values,index=df_pollutants['Item code']).to_dict()\n",
    "df['Item code'] = df['Item code'].replace(pollutants_dict)\n",
    "df.rename(columns={\"Measurement date\": \"datetime\",\n",
    "                   \"Station code\": \"station\",\n",
    "                   \"Item code\": \"pollutant\",\n",
    "                  \"Average value\": \"value\",\n",
    "                  \"Instrument status\": \"operational\"}, inplace = True)\n",
    "df['datetime'] = pd.to_datetime(df['datetime'])\n",
    "df"
   ]
  },
  {
   "cell_type": "code",
   "execution_count": null,
   "metadata": {},
   "outputs": [],
   "source": [
    "# Are there any NaNs?\n",
    "\n",
    "df.isnull().values.any()"
   ]
  },
  {
   "cell_type": "code",
   "execution_count": null,
   "metadata": {},
   "outputs": [],
   "source": [
    "df_SO2 = df.loc[df['pollutant'] == 'SO2']\n",
    "df_NO2 = df.loc[df['pollutant'] == 'NO2']\n",
    "df_CO = df.loc[df['pollutant'] == 'CO']\n",
    "df_O3 = df.loc[df['pollutant'] == 'O3']\n",
    "df_PM10 = df.loc[df['pollutant'] == 'PM10']\n",
    "df_PM25 = df.loc[df['pollutant'] == 'PM2.5']"
   ]
  },
  {
   "cell_type": "code",
   "execution_count": null,
   "metadata": {},
   "outputs": [],
   "source": [
    "df_SO2_0 = df_SO2.loc[df_SO2['operational'] == 0]\n",
    "df_SO2_1 = df_SO2.loc[df_SO2['operational'] == 1]\n",
    "df_SO2_2 = df_SO2.loc[df_SO2['operational'] == 2]\n",
    "df_SO2_4 = df_SO2.loc[df_SO2['operational'] == 4]\n",
    "df_SO2_8 = df_SO2.loc[df_SO2['operational'] == 8]\n",
    "df_SO2_9 = df_SO2.loc[df_SO2['operational'] == 9]\n"
   ]
  },
  {
   "cell_type": "code",
   "execution_count": null,
   "metadata": {},
   "outputs": [],
   "source": [
    "df_NO2_0 = df_NO2.loc[df_NO2['operational'] == 0]\n",
    "df_NO2_1 = df_NO2.loc[df_NO2['operational'] == 1]\n",
    "df_NO2_2 = df_NO2.loc[df_NO2['operational'] == 2]\n",
    "df_NO2_4 = df_NO2.loc[df_NO2['operational'] == 4]\n",
    "df_NO2_8 = df_NO2.loc[df_NO2['operational'] == 8]\n",
    "df_NO2_9 = df_NO2.loc[df_NO2['operational'] == 9]\n"
   ]
  },
  {
   "cell_type": "code",
   "execution_count": null,
   "metadata": {},
   "outputs": [],
   "source": [
    "df_CO_0 = df_CO.loc[df_CO['operational'] == 0]\n",
    "df_CO_1 = df_CO.loc[df_CO['operational'] == 1]\n",
    "df_CO_2 = df_CO.loc[df_CO['operational'] == 2]\n",
    "df_CO_4 = df_CO.loc[df_CO['operational'] == 4]\n",
    "df_CO_8 = df_CO.loc[df_CO['operational'] == 8]\n",
    "df_CO_9 = df_CO.loc[df_CO['operational'] == 9]\n"
   ]
  },
  {
   "cell_type": "code",
   "execution_count": null,
   "metadata": {},
   "outputs": [],
   "source": [
    "df_O3_0 = df_O3.loc[df_O3['operational'] == 0]\n",
    "df_O3_1 = df_O3.loc[df_O3['operational'] == 1]\n",
    "df_O3_2 = df_O3.loc[df_O3['operational'] == 2]\n",
    "df_O3_4 = df_O3.loc[df_O3['operational'] == 4]\n",
    "df_O3_8 = df_O3.loc[df_O3['operational'] == 8]\n",
    "df_O3_9 = df_O3.loc[df_O3['operational'] == 9]\n"
   ]
  },
  {
   "cell_type": "code",
   "execution_count": null,
   "metadata": {},
   "outputs": [],
   "source": [
    "df_PM10_0 = df_PM10.loc[df_PM10['operational'] == 0]\n",
    "df_PM10_1 = df_PM10.loc[df_PM10['operational'] == 1]\n",
    "df_PM10_2 = df_PM10.loc[df_PM10['operational'] == 2]\n",
    "df_PM10_4 = df_PM10.loc[df_PM10['operational'] == 4]\n",
    "df_PM10_8 = df_PM10.loc[df_PM10['operational'] == 8]\n",
    "df_PM10_9 = df_PM10.loc[df_PM10['operational'] == 9]\n"
   ]
  },
  {
   "cell_type": "code",
   "execution_count": null,
   "metadata": {},
   "outputs": [],
   "source": [
    "df_PM25_0 = df_PM25.loc[df_PM25['operational'] == 0]\n",
    "df_PM25_1 = df_PM25.loc[df_PM25['operational'] == 1]\n",
    "df_PM25_2 = df_PM25.loc[df_PM25['operational'] == 2]\n",
    "df_PM25_4 = df_PM25.loc[df_PM25['operational'] == 4]\n",
    "df_PM25_8 = df_PM25.loc[df_PM25['operational'] == 8]\n",
    "df_PM25_9 = df_PM25.loc[df_PM25['operational'] == 9]\n"
   ]
  },
  {
   "cell_type": "code",
   "execution_count": null,
   "metadata": {},
   "outputs": [],
   "source": [
    "df_SO2_not0 = df_SO2.loc[df_SO2['operational'] != 0]\n",
    "df_NO2_not0 = df_NO2.loc[df_NO2['operational'] != 0]\n",
    "df_CO_not0 = df_CO.loc[df_CO['operational'] != 0]\n",
    "df_O3_not0 = df_O3.loc[df_O3['operational'] != 0]\n",
    "df_PM10_not0 = df_PM10.loc[df_PM10['operational'] != 0]\n",
    "df_PM25_not0 = df_PM25.loc[df_PM25['operational'] != 0]\n"
   ]
  },
  {
   "cell_type": "code",
   "execution_count": null,
   "metadata": {},
   "outputs": [],
   "source": [
    "df_SO2_0.plot.scatter(x='datetime', y='value')"
   ]
  },
  {
   "cell_type": "code",
   "execution_count": null,
   "metadata": {},
   "outputs": [],
   "source": [
    "df_SO2_not0.plot.scatter(x='datetime', y='value', figsize=(12, 6), color='DarkBlue')\n",
    "df_SO2_9.plot.scatter(x='datetime', y='value', figsize=(12, 6), color='r')\n",
    "plt.show()\n"
   ]
  },
  {
   "cell_type": "code",
   "execution_count": null,
   "metadata": {},
   "outputs": [],
   "source": []
  }
 ],
 "metadata": {
  "kernelspec": {
   "display_name": "Python 3",
   "language": "python",
   "name": "python3"
  },
  "language_info": {
   "codemirror_mode": {
    "name": "ipython",
    "version": 3
   },
   "file_extension": ".py",
   "mimetype": "text/x-python",
   "name": "python",
   "nbconvert_exporter": "python",
   "pygments_lexer": "ipython3",
   "version": "3.7.7"
  }
 },
 "nbformat": 4,
 "nbformat_minor": 4
}
