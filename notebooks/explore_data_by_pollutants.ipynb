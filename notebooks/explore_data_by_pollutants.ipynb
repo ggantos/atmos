{
 "cells": [
  {
   "cell_type": "markdown",
   "metadata": {},
   "source": [
    "# Exploring data by pollutant"
   ]
  },
  {
   "cell_type": "code",
   "execution_count": null,
   "metadata": {},
   "outputs": [],
   "source": [
    "import pandas as pd\n",
    "import matplotlib.pyplot as plt\n",
    "import seaborn as sns\n",
    "\n",
    "%matplotlib inline"
   ]
  },
  {
   "cell_type": "code",
   "execution_count": null,
   "metadata": {},
   "outputs": [],
   "source": [
    "path_raw_original = '../data/raw/original/'\n",
    "filename_pollutants = 'Measurement_item_info.csv'\n",
    "filename_instruments = 'Measurement_info.csv'\n",
    "\n",
    "df_pollutants = pd.read_csv(path_raw_original + filename_pollutants)\n",
    "df = pd.read_csv(path_raw_original + filename_instruments)\n"
   ]
  },
  {
   "cell_type": "code",
   "execution_count": null,
   "metadata": {},
   "outputs": [],
   "source": [
    "df_pollutants.head(6)"
   ]
  },
  {
   "cell_type": "code",
   "execution_count": null,
   "metadata": {},
   "outputs": [],
   "source": [
    "# replace Item code with Item name & shorten column names\n",
    "\n",
    "pollutants_dict = pd.Series(df_pollutants['Item name'].values,index=df_pollutants['Item code']).to_dict()\n",
    "df['Item code'] = df['Item code'].replace(pollutants_dict)\n",
    "df.rename(columns={\"Measurement date\": \"datetime\",\n",
    "                   \"Station code\": \"station\",\n",
    "                   \"Item code\": \"pollutant\",\n",
    "                  \"Average value\": \"value\",\n",
    "                  \"Instrument status\": \"operational\"}, inplace = True)\n",
    "df['datetime'] = pd.to_datetime(df['datetime'])\n",
    "df"
   ]
  },
  {
   "cell_type": "code",
   "execution_count": null,
   "metadata": {},
   "outputs": [],
   "source": [
    "# Are there any NaNs?\n",
    "\n",
    "df.isnull().values.any()"
   ]
  },
  {
   "cell_type": "code",
   "execution_count": null,
   "metadata": {},
   "outputs": [],
   "source": [
    "# we will want to delete data where values are negative\n",
    "\n",
    "df = df[(df['value']>0)]\n",
    "df"
   ]
  },
  {
   "cell_type": "code",
   "execution_count": null,
   "metadata": {},
   "outputs": [],
   "source": [
    "# split dataframes by pollutant\n",
    "# within pollutants split by instrument status code and pickle\n",
    "\n",
    "pollutants = {}\n",
    "\n",
    "for p in ['SO2', 'NO2', 'CO', 'O3', 'PM10', 'PM2.5']:\n",
    "    sub = df.loc[df['pollutant'] == p]\n",
    "    pollutants[p]={}\n",
    "    pollutants[p]['all'] = sub\n",
    "    pollutants[p]['not0'] = sub.loc[sub['operational'] != 0]\n",
    "    for c in [0,1,2,4,8,9]:\n",
    "        pollutants[p][c] = sub.loc[sub['operational'] == c]\n",
    "    \n",
    "    for k in pollutants[p].keys():\n",
    "        pollutants[p][k].to_pickle('../data/processed/{}_{}.pkl'.format(p,k))\n",
    "        "
   ]
  },
  {
   "cell_type": "markdown",
   "metadata": {},
   "source": [
    "### Plotting some example pollutants and instrument status codes"
   ]
  },
  {
   "cell_type": "code",
   "execution_count": null,
   "metadata": {},
   "outputs": [],
   "source": [
    "pollutants['SO2'][0].plot.scatter(x='datetime', y='value', figsize=(12, 6),\n",
    "                                  title='SO2 at normal instrument operation accross all stations')"
   ]
  },
  {
   "cell_type": "code",
   "execution_count": null,
   "metadata": {},
   "outputs": [],
   "source": [
    "ax1 = pollutants['SO2'][0].plot(kind='scatter',x='datetime', y='value',\n",
    "                                figsize=(12, 6), color='grey', label='0 - normal operation',\n",
    "                                title='Non-normal operational data points for SO2 pollutant')\n",
    "ax2 = pollutants['SO2'][9].plot(kind='scatter',x='datetime', y='value',\n",
    "                                figsize=(12, 6), color='r', ax=ax1, label='9 - abnormal data')\n",
    "ax3 = pollutants['SO2'][8].plot(kind='scatter',x='datetime', y='value',\n",
    "                                figsize=(12, 6), color='g', ax=ax1, label='8 - under repair')\n",
    "ax4 = pollutants['SO2'][4].plot(kind='scatter',x='datetime', y='value',\n",
    "                                figsize=(12, 6), color='y', ax=ax1, label='4 - power cut off')\n",
    "ax5 = pollutants['SO2'][2].plot(kind='scatter',x='datetime', y='value',\n",
    "                                figsize=(12, 6), color='orange', ax=ax1, label='2 - abnormal')\n"
   ]
  },
  {
   "cell_type": "code",
   "execution_count": null,
   "metadata": {},
   "outputs": [],
   "source": [
    "# let's zoom in on the y-range that is important\n",
    "\n",
    "ax1 = pollutants['SO2'][0].plot(kind='scatter',x='datetime', y='value', ylim=(0,0.4),\n",
    "                                figsize=(12, 6), color='grey', label='0 - normal operation',\n",
    "                                title='Non-normal operational data points for SO2 pollutant')\n",
    "ax2 = pollutants['SO2'][9].plot(kind='scatter',x='datetime', y='value',\n",
    "                                figsize=(12, 6), color='r', ax=ax1, label='9 - abnormal data')\n",
    "ax3 = pollutants['SO2'][8].plot(kind='scatter',x='datetime', y='value',\n",
    "                                figsize=(12, 6), color='g', ax=ax1, label='8 - under repair')\n",
    "ax4 = pollutants['SO2'][4].plot(kind='scatter',x='datetime', y='value',\n",
    "                                figsize=(12, 6), color='y', ax=ax1, label='4 - power cut off')\n",
    "ax5 = pollutants['SO2'][2].plot(kind='scatter',x='datetime', y='value',\n",
    "                                figsize=(12, 6), color='orange', ax=ax1, label='2 - abnormal')\n"
   ]
  },
  {
   "cell_type": "code",
   "execution_count": null,
   "metadata": {},
   "outputs": [],
   "source": [
    "pollutants['SO2']['all'].operational.value_counts(normalize=True) * 100"
   ]
  },
  {
   "cell_type": "code",
   "execution_count": null,
   "metadata": {},
   "outputs": [],
   "source": [
    "pollutants['SO2']['all'].describe()"
   ]
  },
  {
   "cell_type": "code",
   "execution_count": null,
   "metadata": {},
   "outputs": [],
   "source": []
  }
 ],
 "metadata": {
  "kernelspec": {
   "display_name": "Python 3",
   "language": "python",
   "name": "python3"
  },
  "language_info": {
   "codemirror_mode": {
    "name": "ipython",
    "version": 3
   },
   "file_extension": ".py",
   "mimetype": "text/x-python",
   "name": "python",
   "nbconvert_exporter": "python",
   "pygments_lexer": "ipython3",
   "version": "3.7.7"
  }
 },
 "nbformat": 4,
 "nbformat_minor": 4
}
