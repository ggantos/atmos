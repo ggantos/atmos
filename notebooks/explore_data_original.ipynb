{
 "cells": [
  {
   "cell_type": "code",
   "execution_count": null,
   "metadata": {},
   "outputs": [],
   "source": [
    "import pandas as pd\n",
    "import matplotlib.pyplot as plt\n",
    "import seaborn as sns\n",
    "\n",
    "%matplotlib inline"
   ]
  },
  {
   "cell_type": "code",
   "execution_count": null,
   "metadata": {},
   "outputs": [],
   "source": [
    "path_raw = 'src/data/raw/original/'\n",
    "filenames = ['Measurement_info.csv', 'Measurement_item_info.csv', 'Measurement_station_info.csv']"
   ]
  },
  {
   "cell_type": "code",
   "execution_count": null,
   "metadata": {},
   "outputs": [],
   "source": [
    "for i in range(0,3):\n",
    "    df = pd.read_csv(path_raw+filenames[i])\n",
    "    print(filenames[i], df.shape)\n",
    "    print(df.head(6))\n",
    "    print('____________________________\\n')"
   ]
  },
  {
   "cell_type": "code",
   "execution_count": null,
   "metadata": {},
   "outputs": [],
   "source": [
    "# Does instrument status vary within the same hour at the same station?\n",
    "\n",
    "df = pd.read_csv(path_raw+filenames[0])\n",
    "df_inst = df[['Measurement date', 'Station code', 'Instrument status']].copy()\n",
    "stds = df_inst.groupby(['Measurement date', 'Station code']).std()\n",
    "stds[(stds.select_dtypes(include=['number']) != 0).any(1)]\n"
   ]
  },
  {
   "cell_type": "code",
   "execution_count": null,
   "metadata": {},
   "outputs": [],
   "source": [
    "# look at one datetime stamp at one station location to see how instrument status varies\n",
    "\n",
    "df[(df.select_dtypes(include=['object']) == '2017-01-01 04:00').any(1)][(df.select_dtypes(include=['int']) == 112).any(1)]"
   ]
  },
  {
   "cell_type": "code",
   "execution_count": null,
   "metadata": {},
   "outputs": [],
   "source": [
    "# Okay, let's go make some masks for the data"
   ]
  },
  {
   "cell_type": "code",
   "execution_count": null,
   "metadata": {},
   "outputs": [],
   "source": []
  }
 ],
 "metadata": {
  "kernelspec": {
   "display_name": "Python 3",
   "language": "python",
   "name": "python3"
  },
  "language_info": {
   "codemirror_mode": {
    "name": "ipython",
    "version": 3
   },
   "file_extension": ".py",
   "mimetype": "text/x-python",
   "name": "python",
   "nbconvert_exporter": "python",
   "pygments_lexer": "ipython3",
   "version": "3.7.7"
  }
 },
 "nbformat": 4,
 "nbformat_minor": 4
}
