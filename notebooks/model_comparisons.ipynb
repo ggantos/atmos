{
 "cells": [
  {
   "cell_type": "markdown",
   "metadata": {},
   "source": [
    "# Comparing model MAE for one pollutant at one station predicting one hour in the future"
   ]
  },
  {
   "cell_type": "code",
   "execution_count": null,
   "metadata": {},
   "outputs": [],
   "source": [
    "import tensorflow as tf\n",
    "import matplotlib.pyplot as plt\n",
    "import numpy as np\n",
    "import sys, os, glob, pickle\n",
    "import pandas as pd\n",
    "import seaborn as sns\n",
    "\n",
    "module_path = os.path.abspath(os.path.join('..'))\n",
    "if module_path not in sys.path:\n",
    "    sys.path.append(module_path)\n",
    "    \n",
    "from src import plotting, modelling\n",
    "\n",
    "%matplotlib inline"
   ]
  },
  {
   "cell_type": "code",
   "execution_count": null,
   "metadata": {},
   "outputs": [],
   "source": [
    "# Load data and filter for a single station\n",
    "\n",
    "pollutant = 'SO2'\n",
    "station = 101\n",
    "df = pd.read_pickle('../src/data/processed/{}_0.pkl'.format(pollutant))\n",
    "df = df.loc[df['station'] == station]\n"
   ]
  },
  {
   "cell_type": "code",
   "execution_count": null,
   "metadata": {},
   "outputs": [],
   "source": [
    "# Create data for model\n",
    "\n",
    "df_data = df['value']\n",
    "df_data.index = df['datetime']\n",
    "df_data.plot(subplots=True)\n"
   ]
  },
  {
   "cell_type": "code",
   "execution_count": null,
   "metadata": {},
   "outputs": [],
   "source": [
    "# drop datetime\n",
    "\n",
    "df_data = df_data.values\n"
   ]
  },
  {
   "cell_type": "code",
   "execution_count": null,
   "metadata": {},
   "outputs": [],
   "source": [
    "# Standardization\n",
    "\n",
    "train_split = 24*365*2\n",
    "\n",
    "df_train_mean = df_data[:train_split].mean()\n",
    "df_train_std = df_data[:train_split].std()\n",
    "\n",
    "df_data = (df_data-df_train_mean)/df_train_std\n"
   ]
  },
  {
   "cell_type": "code",
   "execution_count": null,
   "metadata": {},
   "outputs": [],
   "source": [
    "# train-validation split\n",
    "\n",
    "history_size = 20\n",
    "future_size = 0\n",
    "\n",
    "x_train, y_train = modelling.chop_data(df_data, 0, train_split,\n",
    "                             history_size,\n",
    "                             future_size)\n",
    "x_val, y_val = modelling.chop_data(df_data, train_split, None,\n",
    "                         history_size,\n",
    "                         future_size)"
   ]
  },
  {
   "cell_type": "markdown",
   "metadata": {},
   "source": [
    "## Begin loading different models and histories using tensorflow"
   ]
  },
  {
   "cell_type": "code",
   "execution_count": null,
   "metadata": {},
   "outputs": [],
   "source": [
    "file_paths = [f for f in glob.glob('../src/models/{}/*.h5'.format(pollutant))]\n",
    "model_names = [f[f.rfind('/')+1:-3] for f in file_paths if f.endswith('.h5')]\n",
    "print(model_names)"
   ]
  },
  {
   "cell_type": "code",
   "execution_count": null,
   "metadata": {},
   "outputs": [],
   "source": [
    "losses = []\n",
    "labels = []\n",
    "epoch = []\n",
    "\n",
    "for model_name in model_names:\n",
    "    model_hist = modelling.load_history(model_name, subd='{}/'.format(pollutant))\n",
    "    losses.append(min(model_hist['mae']))\n",
    "    epoch.append(model_hist['mae'].index(min(model_hist['mae'])))\n",
    "    labels.append(model_name)\n",
    "\n",
    "df_losses = pd.DataFrame(data={'losses': losses, 'epoch': epoch, 'model': labels})\n",
    "\n",
    "sns.scatterplot(x=df_losses.epoch, y=df_losses.losses,\n",
    "                     hue=df_losses.model, legend='full')"
   ]
  },
  {
   "cell_type": "code",
   "execution_count": null,
   "metadata": {},
   "outputs": [],
   "source": []
  }
 ],
 "metadata": {
  "kernelspec": {
   "display_name": "Python 3",
   "language": "python",
   "name": "python3"
  },
  "language_info": {
   "codemirror_mode": {
    "name": "ipython",
    "version": 3
   },
   "file_extension": ".py",
   "mimetype": "text/x-python",
   "name": "python",
   "nbconvert_exporter": "python",
   "pygments_lexer": "ipython3",
   "version": "3.7.7"
  }
 },
 "nbformat": 4,
 "nbformat_minor": 4
}
