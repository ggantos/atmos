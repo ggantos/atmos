{
 "cells": [
  {
   "cell_type": "markdown",
   "metadata": {},
   "source": [
    "# Timeseries prediction of one pollutant at one station for one hour in the future"
   ]
  },
  {
   "cell_type": "code",
   "execution_count": null,
   "metadata": {},
   "outputs": [],
   "source": [
    "import tensorflow as tf\n",
    "import matplotlib.pyplot as plt\n",
    "import numpy as np\n",
    "import sys, os, pickle\n",
    "import pandas as pd\n",
    "\n",
    "module_path = os.path.abspath(os.path.join('..'))\n",
    "if module_path not in sys.path:\n",
    "    sys.path.append(module_path)\n",
    "\n",
    "from src import plotting, modelling\n",
    "\n",
    "%matplotlib inline"
   ]
  },
  {
   "cell_type": "code",
   "execution_count": null,
   "metadata": {},
   "outputs": [],
   "source": [
    "# Load data and filter for a single station\n",
    "\n",
    "df = pd.read_pickle('../data/processed/SO2_0.pkl')\n",
    "df = df.loc[df['station'] == 101]\n"
   ]
  },
  {
   "cell_type": "code",
   "execution_count": null,
   "metadata": {},
   "outputs": [],
   "source": [
    "# Create data for model\n",
    "\n",
    "df_data = df['value']\n",
    "df_data.index = df['datetime']\n",
    "df_data.plot(subplots=True)\n"
   ]
  },
  {
   "cell_type": "code",
   "execution_count": null,
   "metadata": {},
   "outputs": [],
   "source": [
    "# drop datetime\n",
    "\n",
    "df_data = df_data.values\n"
   ]
  },
  {
   "cell_type": "code",
   "execution_count": null,
   "metadata": {},
   "outputs": [],
   "source": [
    "# Standardize\n",
    "\n",
    "train_split = 24*365*2\n",
    "\n",
    "df_train_mean = df_data[:train_split].mean()\n",
    "df_train_std = df_data[:train_split].std()\n",
    "\n",
    "df_data = (df_data-df_train_mean)/df_train_std\n"
   ]
  },
  {
   "cell_type": "code",
   "execution_count": null,
   "metadata": {},
   "outputs": [],
   "source": [
    "# split timeseries into train and validation\n",
    "\n",
    "history_size = 20\n",
    "future_size = 0\n",
    "\n",
    "x_train, y_train = modelling.chop_data(df_data, 0, train_split,\n",
    "                                       history_size,\n",
    "                                       future_size)\n",
    "x_val, y_val = modelling.chop_data(df_data, train_split, None,\n",
    "                                   history_size,\n",
    "                                   future_size)"
   ]
  },
  {
   "cell_type": "markdown",
   "metadata": {},
   "source": [
    "## Begin with model definition in tensorflow"
   ]
  },
  {
   "cell_type": "code",
   "execution_count": null,
   "metadata": {},
   "outputs": [],
   "source": [
    "# create train and validation objects using tensorflow Dataset\n",
    "\n",
    "BATCH_SIZE = 256\n",
    "BUFFER_SIZE = 10000\n",
    "\n",
    "train = tf.data.Dataset.from_tensor_slices((x_train, y_train))\n",
    "train = train.cache().shuffle(BUFFER_SIZE).batch(BATCH_SIZE).repeat()\n",
    "\n",
    "val = tf.data.Dataset.from_tensor_slices((x_val, y_val))\n",
    "val = val.batch(BATCH_SIZE).repeat()"
   ]
  },
  {
   "cell_type": "markdown",
   "metadata": {},
   "source": [
    "### Model Definition"
   ]
  },
  {
   "cell_type": "code",
   "execution_count": null,
   "metadata": {},
   "outputs": [],
   "source": [
    "# define sequential tf.keras model\n",
    "\n",
    "units = 1\n",
    "\n",
    "model = tf.keras.models.Sequential([\n",
    "    tf.keras.layers.LSTM(units, input_shape=x_train.shape[-2:]),\n",
    "    tf.keras.layers.Dense(1)\n",
    "])"
   ]
  },
  {
   "cell_type": "code",
   "execution_count": null,
   "metadata": {},
   "outputs": [],
   "source": [
    "OPT = 'adam'\n",
    "LOSS = 'mae'\n",
    "\n",
    "model.compile(optimizer=OPT, loss=LOSS, metrics=['mae'])\n"
   ]
  },
  {
   "cell_type": "code",
   "execution_count": null,
   "metadata": {},
   "outputs": [],
   "source": [
    "# check the output of the model is the correct shape\n",
    "\n",
    "for x, y in val.take(1):\n",
    "    print(model.predict(x).shape)\n",
    "    "
   ]
  },
  {
   "cell_type": "code",
   "execution_count": null,
   "metadata": {
    "scrolled": true
   },
   "outputs": [],
   "source": [
    "EVALUATION_INTERVAL = 200\n",
    "EPOCHS = 2\n",
    "\n",
    "model.fit(train, epochs=EPOCHS,\n",
    "          steps_per_epoch=EVALUATION_INTERVAL,\n",
    "          validation_data=val, validation_steps=50)"
   ]
  },
  {
   "cell_type": "code",
   "execution_count": null,
   "metadata": {},
   "outputs": [],
   "source": [
    "model.summary()"
   ]
  },
  {
   "cell_type": "code",
   "execution_count": null,
   "metadata": {},
   "outputs": [],
   "source": [
    "# save model and history\n",
    "\n",
    "model_name = 'LSTM{}'.format(units)\n",
    "subd = 'SO2/'\n",
    "model_path = '../src/models/{}'.format(subd)\n",
    "\n",
    "try:\n",
    "    os.makedirs(model_path)\n",
    "except FileExistsError:\n",
    "    pass\n",
    "\n",
    "model.save(model_path+'{}.h5'.format(model_name), save_format='tf')\n",
    "\n",
    "modelling.save_history(model.history.history, model_name, subd)\n"
   ]
  },
  {
   "cell_type": "markdown",
   "metadata": {},
   "source": [
    "### Plot loss history"
   ]
  },
  {
   "cell_type": "code",
   "execution_count": null,
   "metadata": {},
   "outputs": [],
   "source": [
    "plotting.plot_train_history(model.history.history,\n",
    "                            'Single Step Training and validation loss')"
   ]
  },
  {
   "cell_type": "code",
   "execution_count": null,
   "metadata": {},
   "outputs": [],
   "source": [
    "# visualizing some predictions vs actuals\n",
    "\n",
    "for x, y in val.take(3):\n",
    "    plot = plotting.y_vs_yhat([x[0].numpy(),\n",
    "                      y[0].numpy(),\n",
    "                      model.predict(x)[0]],\n",
    "                      0,\n",
    "                      'Simple LSTM model')\n",
    "    plot.show()"
   ]
  },
  {
   "cell_type": "code",
   "execution_count": null,
   "metadata": {},
   "outputs": [],
   "source": []
  }
 ],
 "metadata": {
  "kernelspec": {
   "display_name": "Python 3",
   "language": "python",
   "name": "python3"
  },
  "language_info": {
   "codemirror_mode": {
    "name": "ipython",
    "version": 3
   },
   "file_extension": ".py",
   "mimetype": "text/x-python",
   "name": "python",
   "nbconvert_exporter": "python",
   "pygments_lexer": "ipython3",
   "version": "3.7.7"
  }
 },
 "nbformat": 4,
 "nbformat_minor": 4
}
