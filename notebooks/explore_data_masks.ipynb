{
 "cells": [
  {
   "cell_type": "markdown",
   "metadata": {},
   "source": [
    "# Making instrument status masks from original data"
   ]
  },
  {
   "cell_type": "code",
   "execution_count": null,
   "metadata": {},
   "outputs": [],
   "source": [
    "import pandas as pd\n",
    "import matplotlib.pyplot as plt\n",
    "import seaborn as sns\n",
    "\n",
    "%matplotlib inline"
   ]
  },
  {
   "cell_type": "code",
   "execution_count": null,
   "metadata": {},
   "outputs": [],
   "source": [
    "path_raw_original = '../src/data/raw/original/'\n",
    "filename_pollutants = 'Measurement_item_info.csv'\n",
    "filename_instruments = 'Measurement_info.csv'\n",
    "\n",
    "df_pollutants = pd.read_csv(path_raw_original + filename_pollutants)\n",
    "df_instruments = pd.read_csv(path_raw_original + filename_instruments)\n"
   ]
  },
  {
   "cell_type": "code",
   "execution_count": null,
   "metadata": {},
   "outputs": [],
   "source": [
    "df_pollutants.head(6)"
   ]
  },
  {
   "cell_type": "code",
   "execution_count": null,
   "metadata": {},
   "outputs": [],
   "source": [
    "df_instruments"
   ]
  },
  {
   "cell_type": "code",
   "execution_count": null,
   "metadata": {},
   "outputs": [],
   "source": [
    "# replace Item code with Item name\n",
    "\n",
    "pollutants_dict = pd.Series(df_pollutants['Item name'].values,index=df_pollutants['Item code']).to_dict()\n",
    "df_instruments['Item code'] = df_instruments['Item code'].replace(pollutants_dict)\n",
    "df_instruments.rename(columns={'Item code': 'Item name'}, inplace=True)\n",
    "df_instruments"
   ]
  },
  {
   "cell_type": "code",
   "execution_count": null,
   "metadata": {},
   "outputs": [],
   "source": [
    "# Are there any NaNs?\n",
    "\n",
    "df_instruments.isnull().values.any()"
   ]
  },
  {
   "cell_type": "code",
   "execution_count": null,
   "metadata": {},
   "outputs": [],
   "source": [
    "# Pivot the dataframe so that the Item names are in columns\n",
    "\n",
    "df_instruments['idx'] = df_instruments['Measurement date'] + df_instruments['Station code'].astype(str)\n",
    "df_instruments = df_instruments.drop(columns=['Measurement date', 'Station code', 'Average value'])\n",
    "df_instruments = df_instruments.pivot(index='idx', columns='Item name', values='Instrument status')\n"
   ]
  },
  {
   "cell_type": "code",
   "execution_count": null,
   "metadata": {},
   "outputs": [],
   "source": [
    "# order columns the same as summary df\n",
    "\n",
    "cols = ['SO2', 'NO2', 'O3','CO','PM10','PM2.5']\n",
    "df_instruments = df_instruments[cols]\n"
   ]
  },
  {
   "cell_type": "code",
   "execution_count": null,
   "metadata": {},
   "outputs": [],
   "source": [
    "df_instruments"
   ]
  },
  {
   "cell_type": "code",
   "execution_count": null,
   "metadata": {},
   "outputs": [],
   "source": [
    "df_instruments.loc['2017-01-01 04:00'+str(112)]"
   ]
  },
  {
   "cell_type": "code",
   "execution_count": null,
   "metadata": {},
   "outputs": [],
   "source": [
    "# Create masks where we filter for the specific instrument operation code\n",
    "# 0: Normal, 1: Need for calibration, 2: Abnormal 4: Power cut off, 8: Under repair, 9: abnormal data\n",
    "\n",
    "for i in [0,1,2,4,8,9]:\n",
    "    df_sub = df_instruments.where(df_instruments == i, False).mask(df_instruments == i, True)[cols]\n",
    "    df_sub.to_pickle('../src/data/interim/instrument_mask_{}.pkl'.format(i))\n",
    "    print('Mask for instrument status code {}:\\n'.format(i),\n",
    "          df_sub.loc['2017-01-01 04:00'+str(112)])\n"
   ]
  },
  {
   "cell_type": "code",
   "execution_count": null,
   "metadata": {},
   "outputs": [],
   "source": []
  }
 ],
 "metadata": {
  "kernelspec": {
   "display_name": "Python 3",
   "language": "python",
   "name": "python3"
  },
  "language_info": {
   "codemirror_mode": {
    "name": "ipython",
    "version": 3
   },
   "file_extension": ".py",
   "mimetype": "text/x-python",
   "name": "python",
   "nbconvert_exporter": "python",
   "pygments_lexer": "ipython3",
   "version": "3.7.7"
  }
 },
 "nbformat": 4,
 "nbformat_minor": 4
}
